{
 "cells": [
  {
   "cell_type": "code",
   "execution_count": 17,
   "metadata": {},
   "outputs": [],
   "source": [
    "import pyomo.environ as pyo\n",
    "from pyomo.opt import SolverFactory"
   ]
  },
  {
   "cell_type": "markdown",
   "metadata": {},
   "source": [
    "## production Planning\n",
    "An automobile assembly plant assembles two types of vehicles: a four-door saloon and a people carrier. Both vehicle types must pass through a painting plant and an assembly plant. If the painting plant only paints four-door saloons, it can paint some 2,000 vehicles each day, whereas if it paints only people carriers, it can paint some 1,500 vehicles each day. Moreover, if the assembly plant only assembles either four-door saloons or people carriers, it can assemble some 2,200 vehicles every day. Each people carrier implies an average profit of $3,000, whereas a four\u0002door saloon implies an average profit of $2,100. maximise the vehicle assembly plant’s daily profit"
   ]
  },
  {
   "cell_type": "code",
   "execution_count": 20,
   "metadata": {},
   "outputs": [
    {
     "name": "stdout",
     "output_type": "stream",
     "text": [
      "\n",
      "Problem: \n",
      "- Name: unknown\n",
      "  Lower bound: 4500000.0\n",
      "  Upper bound: 4500000.0\n",
      "  Number of objectives: 1\n",
      "  Number of constraints: 4\n",
      "  Number of variables: 2\n",
      "  Number of nonzeros: 8\n",
      "  Sense: maximize\n",
      "Solver: \n",
      "- Status: ok\n",
      "  Termination condition: optimal\n",
      "  Statistics: \n",
      "    Branch and bound: \n",
      "      Number of bounded subproblems: 0\n",
      "      Number of created subproblems: 0\n",
      "  Error rc: 0\n",
      "  Time: 0.002023458480834961\n",
      "Solution: \n",
      "- number of solutions: 0\n",
      "  number of solutions displayed: 0\n",
      "\n",
      "PROFIT =  4500000.0\n",
      "value of  1  = 0.0\n",
      "value of  2  = 1500.0\n"
     ]
    }
   ],
   "source": [
    "#instatiate an object of ConcreteModel class\n",
    "model = pyo.ConcreteModel()\n",
    "\n",
    "# Sets\n",
    "model.i = pyo.Set(initialize=range(1, 3))\n",
    "\n",
    "# Parameters\n",
    "\n",
    "# painting_parameter\n",
    "model.pa = pyo.Param(model.i, initialize = {1:2000,2:1500})\n",
    "pa = model.pa\n",
    "\n",
    "# assembly_parameter\n",
    "model.a = pyo.Param(model.i, initialize = {1:2200,2:2200})\n",
    "a = model.a\n",
    "\n",
    "#profit_parameter\n",
    "model.p = pyo.Param(model.i, initialize = {1:2100,2:3000})\n",
    "p = model.p\n",
    "\n",
    "# Decision Variables\n",
    "\n",
    "model.x = pyo.Var(model.i, within=pyo.NonNegativeReals)\n",
    "x= model.x\n",
    "\n",
    "\n",
    "#Objective Function\n",
    "def daily_profit(model):\n",
    "    return sum(p[i] * x[i] for i in model.i)\n",
    "\n",
    "\n",
    "model.obj = pyo.Objective(rule=daily_profit, sense=pyo.maximize)\n",
    "\n",
    "# Constraints\n",
    "def painting_constraint(model,i):\n",
    "    \"\"\"fraction of painting for each car type must be less than or equal to 1\n",
    "\n",
    "    Args:\n",
    "        model (_type_): _description_\n",
    "        i (_type_): _description_\n",
    "    \"\"\"\n",
    "    return sum((1/pa[i])*x[i] for i in model.i) <= 1\n",
    "\n",
    "def assembly_constraint(model,i):\n",
    "    \"\"\"fraction of assembly for each car type must be less than or equal to 1\n",
    "\n",
    "    Args:\n",
    "        model (_type_): _description_\n",
    "        i (_type_): _description_\n",
    "    \"\"\"\n",
    "    return sum((1/a[i])*x[i] for i in model.i) <= 1\n",
    "\n",
    "model.const1 = pyo.Constraint(model.i, rule=painting_constraint)\n",
    "model.const2 = pyo.Constraint(model.i, rule=assembly_constraint)\n",
    "\n",
    "# Solve the model\n",
    "\n",
    "solver = SolverFactory('glpk')\n",
    "results = solver.solve(model)\n",
    "\n",
    "# Print the results\n",
    "print(results)\n",
    "print(\"PROFIT = \",model.obj())\n",
    "for i in model.i:\n",
    "    print(\"value of \", i,\" =\",x[i]() )\n",
    "    "
   ]
  },
  {
   "cell_type": "code",
   "execution_count": null,
   "metadata": {},
   "outputs": [],
   "source": []
  },
  {
   "cell_type": "code",
   "execution_count": null,
   "metadata": {},
   "outputs": [],
   "source": []
  }
 ],
 "metadata": {
  "kernelspec": {
   "display_name": "Python 3",
   "language": "python",
   "name": "python3"
  },
  "language_info": {
   "codemirror_mode": {
    "name": "ipython",
    "version": 3
   },
   "file_extension": ".py",
   "mimetype": "text/x-python",
   "name": "python",
   "nbconvert_exporter": "python",
   "pygments_lexer": "ipython3",
   "version": "3.10.12"
  },
  "orig_nbformat": 4
 },
 "nbformat": 4,
 "nbformat_minor": 2
}
