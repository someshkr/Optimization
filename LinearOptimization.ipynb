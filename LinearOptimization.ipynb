{
  "nbformat": 4,
  "nbformat_minor": 0,
  "metadata": {
    "colab": {
      "provenance": []
    },
    "kernelspec": {
      "name": "python3",
      "display_name": "Python 3"
    },
    "language_info": {
      "name": "python"
    }
  },
  "cells": [
    {
      "cell_type": "code",
      "execution_count": null,
      "metadata": {
        "colab": {
          "base_uri": "https://localhost:8080/"
        },
        "id": "ZNltBiRX84jR",
        "outputId": "1d8a8ae6-54c4-4ec2-e95c-b75c71c77d20"
      },
      "outputs": [
        {
          "output_type": "stream",
          "name": "stdout",
          "text": [
            "Requirement already satisfied: pyomo in /usr/local/lib/python3.10/dist-packages (6.6.2)\n",
            "Requirement already satisfied: ply in /usr/local/lib/python3.10/dist-packages (from pyomo) (3.11)\n"
          ]
        }
      ],
      "source": [
        "!pip install pyomo\n",
        "!apt-get install -y -qq glpk-utils"
      ]
    },
    {
      "cell_type": "code",
      "source": [
        "import pyomo.environ as pyo\n",
        "from pyomo.opt import SolverFactory"
      ],
      "metadata": {
        "id": "NMcB5g7j9Gyx"
      },
      "execution_count": null,
      "outputs": []
    },
    {
      "cell_type": "code",
      "source": [
        "model = pyo.ConcreteModel()\n",
        "\n",
        "#Sets\n",
        "model.i  = pyo.Set(initialize = [\"Desk\",\"Table\",\"Chair\"])\n",
        "\n",
        "#Parameters\n",
        "model.L = pyo.Param(model.i,initialize = {\"Desk\":8, \"Table\":6, \"Chair\":2})\n",
        "L = model.L\n",
        "\n",
        "model.F= pyo.Param(model.i,initialize = {\"Desk\":4,\"Table\":2,\"Chair\":1.5})\n",
        "F = model.F\n",
        "\n",
        "model.C = pyo.Param(model.i ,initialize = {\"Desk\":2,\"Table\":1.5,\"Chair\":0.5})\n",
        "C= model.C\n",
        "\n",
        "model.P = pyo.Param(model.i, initialize = {\"Desk\":60,\"Table\":30,\"Chair\":20} )\n",
        "P = model.P"
      ],
      "metadata": {
        "id": "LA5Oipap9oo1"
      },
      "execution_count": null,
      "outputs": []
    },
    {
      "cell_type": "code",
      "source": [
        "#Decision Variable\n",
        "model.x = pyo.Var(model.i,within=pyo.NonNegativeReals)\n",
        "x = model.x\n",
        "\n",
        "#Objective Fuction\n",
        "def objective_rule(model):\n",
        "  return sum(P[i]*x[i] for i in model.i)\n",
        "\n"
      ],
      "metadata": {
        "id": "gpgZHHUhvws6"
      },
      "execution_count": null,
      "outputs": []
    },
    {
      "cell_type": "code",
      "source": [
        "model.Obj = pyo.Objective(rule =objective_rule,sense=pyo.maximize)"
      ],
      "metadata": {
        "id": "Pnc_pc0n1ZXc"
      },
      "execution_count": null,
      "outputs": []
    },
    {
      "cell_type": "code",
      "source": [
        "#Constraints\n",
        "\n",
        "def constraint1(model,i):\n",
        "  return  sum(L[i]*x[i] for i in model.i)<=48\n",
        "\n",
        "model.Const1 = pyo.Constraint(model.i,rule = constraint1)\n",
        "\n",
        "\n",
        "def constraint2(model,i):\n",
        "  return sum(F[i]*x[i] for i in model.i)<=20\n",
        "\n",
        "model.Const2 = pyo.Constraint(model.i,rule = constraint2)\n",
        "\n",
        "\n",
        "def constraint3(model,i):\n",
        "  return sum(C[i]*x[i] for i in model.i)<=8\n",
        "\n",
        "model.Const3 = pyo.Constraint(model.i,rule=constraint3)\n",
        "\n",
        "def constraint4(model,i):\n",
        "  return x[\"Table\"]<=5\n",
        "\n",
        "model.Const4 = pyo.Constraint(model.i,rule = constraint4)"
      ],
      "metadata": {
        "id": "4MDSNsUd2pMO"
      },
      "execution_count": null,
      "outputs": []
    },
    {
      "cell_type": "code",
      "source": [
        "# Solve\n",
        "Solver = SolverFactory(\"glpk\")\n",
        "results = Solver.solve(model)\n",
        "\n",
        "print(results)\n",
        "print(\"Objective func =\",model.Obj())\n",
        "for i in model.i:\n",
        "  print(\"number of \",i,\" produced = \",x[i]())"
      ],
      "metadata": {
        "colab": {
          "base_uri": "https://localhost:8080/"
        },
        "id": "YOafGRnL3CGb",
        "outputId": "f985888c-f047-46d3-8c8a-e445d8f1bb98"
      },
      "execution_count": null,
      "outputs": [
        {
          "output_type": "stream",
          "name": "stdout",
          "text": [
            "\n",
            "Problem: \n",
            "- Name: unknown\n",
            "  Lower bound: 280.0\n",
            "  Upper bound: 280.0\n",
            "  Number of objectives: 1\n",
            "  Number of constraints: 12\n",
            "  Number of variables: 3\n",
            "  Number of nonzeros: 30\n",
            "  Sense: maximize\n",
            "Solver: \n",
            "- Status: ok\n",
            "  Termination condition: optimal\n",
            "  Statistics: \n",
            "    Branch and bound: \n",
            "      Number of bounded subproblems: 0\n",
            "      Number of created subproblems: 0\n",
            "  Error rc: 0\n",
            "  Time: 0.004399299621582031\n",
            "Solution: \n",
            "- number of solutions: 0\n",
            "  number of solutions displayed: 0\n",
            "\n",
            "Objective func = 280.0\n",
            "number of  Desk  produced =  2.0\n",
            "number of  Table  produced =  0.0\n",
            "number of  Chair  produced =  8.0\n"
          ]
        }
      ]
    },
    {
      "cell_type": "markdown",
      "source": [
        "# **Problem 2**"
      ],
      "metadata": {
        "id": "KGqxiOhYACWV"
      }
    },
    {
      "cell_type": "code",
      "source": [
        "# Define the model\n",
        "\n",
        "model = pyo.ConcreteModel()\n",
        "\n",
        "# Decision Variable\n",
        "model.x1 = pyo.Var(within = pyo.NonNegativeReals)\n",
        "x1 = model.x1\n",
        "model.x2 = pyo.Var(within=pyo.NonNegativeReals)\n",
        "x2 = model.x2\n",
        "\n",
        "#objective function\n",
        "\n",
        "model.Obj =  pyo.Objective(expr = 4*x1+3*x2,sense=pyo.maximize)\n",
        "\n",
        "#Constraints\n",
        "model.Const1 = pyo.Constraint(expr=x1+x2<=40)\n",
        "model.Const2 = pyo.Constraint(expr=2*x1+x2<=60)"
      ],
      "metadata": {
        "id": "MdcTbkMv5Y22"
      },
      "execution_count": null,
      "outputs": []
    },
    {
      "cell_type": "code",
      "source": [
        "optm = SolverFactory(\"glpk\")\n",
        "results = optm.solve(model)\n",
        "\n",
        "print(results)\n",
        "print(\"objective func \",model.Obj())\n",
        "print(\"x1 = \",model.x1())\n",
        "print(\"x2 = \",model.x2())"
      ],
      "metadata": {
        "colab": {
          "base_uri": "https://localhost:8080/"
        },
        "id": "eZlGvDdXCYYU",
        "outputId": "09829aa8-cf98-4ab1-b47d-cd0c991330b5"
      },
      "execution_count": null,
      "outputs": [
        {
          "output_type": "stream",
          "name": "stdout",
          "text": [
            "\n",
            "Problem: \n",
            "- Name: unknown\n",
            "  Lower bound: 140.0\n",
            "  Upper bound: 140.0\n",
            "  Number of objectives: 1\n",
            "  Number of constraints: 2\n",
            "  Number of variables: 2\n",
            "  Number of nonzeros: 4\n",
            "  Sense: maximize\n",
            "Solver: \n",
            "- Status: ok\n",
            "  Termination condition: optimal\n",
            "  Statistics: \n",
            "    Branch and bound: \n",
            "      Number of bounded subproblems: 0\n",
            "      Number of created subproblems: 0\n",
            "  Error rc: 0\n",
            "  Time: 0.0041120052337646484\n",
            "Solution: \n",
            "- number of solutions: 0\n",
            "  number of solutions displayed: 0\n",
            "\n",
            "objective func  140.0\n",
            "x1 =  20.0\n",
            "x2 =  20.0\n"
          ]
        }
      ]
    },
    {
      "cell_type": "code",
      "source": [
        "model = pyo.ConcreteModel()\n",
        "\n",
        "#sets\n",
        "\n",
        "model.i = pyo.RangeSet(1,3)\n",
        "model.j = pyo.RangeSet(1,4)\n",
        "\n",
        "\"\"\"\n",
        "model.i = pyo.Set(\"plant1\",\"plant2\",\"plant3\")\n",
        "model.j = pyo.Set(\"city1\",\"city2\",\"city3\",\"city4\")\n",
        "\"\"\"\n",
        "\n",
        "# parameters\n",
        "model.S = pyo.Param(model.i,initialize = {1:34,2:50,3:40})\n",
        "S = model.S\n",
        "model.D = pyo.Param(model.j,initialize = {1:45,2:20,3:30,4:30})\n",
        "D = model.D\n",
        "\n",
        "model.P = pyo.Param(model.i,model.j,initialize = {\n",
        "              (1,1):8,(1,2):6,(1,3):30,(1,4):9,\n",
        "              (2,1):9,(2,2):12,(2,3):13,(2,4):7,\n",
        "              (3,1):14,(3,2):9,(3,3):16,(3,4):5})\n",
        "P = model.P\n",
        "\n",
        "# Variables\n",
        "model.x = pyo.Var(model.i,model.j, within=pyo.NonNegativeReals)\n",
        "x = model.x\n",
        "\n",
        "# objective function\n",
        "def Objective_rule(model):\n",
        "  return sum(sum(P[i,j]*x[i,j] for i in model.i) for j in model.j)\n",
        "\n",
        "model.Objf = pyo.Objective(rule=Objective_rule,sense=pyo.minimize)\n",
        "\n",
        "#constraints\n",
        "\n",
        "# Supply\n",
        "def Constraint1(model,j):\n",
        "  return sum(x[1,j] for j in model.j)<=S[1]\n",
        "\n",
        "model.Const1 = pyo.Constraint(model.j,rule = Constraint1)\n",
        "\n",
        "def Constraint2(model,j):\n",
        "  return sum(x[2,j] for j in model.j)<=S[2]\n",
        "\n",
        "model.Const2 = pyo.Constraint(model.j,rule = Constraint2)\n",
        "\n",
        "def Constraint3(model,j):\n",
        "  return sum(x[3,j] for j in model.j)<=S[3]\n",
        "\n",
        "model.Const3 = pyo.Constraint(model.j,rule = Constraint3)\n",
        "\n",
        "# Demand\n",
        "\n",
        "def Constraint4(model,i):\n",
        "  return sum(x[i,1] for i in model.i)>=D[1]\n",
        "\n",
        "model.Const4 = pyo.Constraint(model.i,rule = Constraint4)\n",
        "\n",
        "def Constraint5(model,i):\n",
        "  return sum(x[i,2] for i in model.i)>=D[2]\n",
        "\n",
        "model.Const5 = pyo.Constraint(model.j,rule = Constraint5)\n",
        "\n",
        "def Constraint6(model,i):\n",
        "  return sum(x[i,3] for i in model.i)>=D[3]\n",
        "\n",
        "model.Const6 = pyo.Constraint(model.i,rule = Constraint6)\n",
        "\n",
        "def Constraint7(model,i):\n",
        "  return sum(x[i,4] for i in model.i)>=D[4]\n",
        "\n",
        "model.Const7 = pyo.Constraint(model.i,rule = Constraint7)\n",
        "\n",
        "\n",
        "Solver = SolverFactory(\"glpk\")\n",
        "results = Solver.solve(model)\n",
        "\n",
        "print(results)\n",
        "print(\"obj func = \",model.Objf)\n",
        "\n",
        "for i in model.i:\n",
        "  for j in model.j:\n",
        "    print(\"electricity send from plant \",i, \" to city \",j,\"=\",x[i,j]())\n"
      ],
      "metadata": {
        "colab": {
          "base_uri": "https://localhost:8080/"
        },
        "id": "mmzlthIYG1DA",
        "outputId": "ec481ac5-8aa8-4fde-e1cc-ad179dae9783"
      },
      "execution_count": null,
      "outputs": [
        {
          "output_type": "stream",
          "name": "stdout",
          "text": [
            "\n",
            "Problem: \n",
            "- Name: unknown\n",
            "  Lower bound: -inf\n",
            "  Upper bound: inf\n",
            "  Number of objectives: 1\n",
            "  Number of constraints: 25\n",
            "  Number of variables: 12\n",
            "  Number of nonzeros: 87\n",
            "  Sense: minimize\n",
            "Solver: \n",
            "- Status: ok\n",
            "  Termination condition: other\n",
            "  Statistics: \n",
            "    Branch and bound: \n",
            "      Number of bounded subproblems: 0\n",
            "      Number of created subproblems: 0\n",
            "  Error rc: 0\n",
            "  Time: 0.006071329116821289\n",
            "\n",
            "obj func =  Objf\n",
            "electricity send from plant  1  to city  1 = None\n",
            "electricity send from plant  1  to city  2 = None\n",
            "electricity send from plant  1  to city  3 = None\n",
            "electricity send from plant  1  to city  4 = None\n",
            "electricity send from plant  2  to city  1 = None\n",
            "electricity send from plant  2  to city  2 = None\n",
            "electricity send from plant  2  to city  3 = None\n",
            "electricity send from plant  2  to city  4 = None\n",
            "electricity send from plant  3  to city  1 = None\n",
            "electricity send from plant  3  to city  2 = None\n",
            "electricity send from plant  3  to city  3 = None\n",
            "electricity send from plant  3  to city  4 = None\n"
          ]
        }
      ]
    },
    {
      "cell_type": "markdown",
      "source": [
        "## **Investment plan**\n",
        "\n",
        "*A small investor has dollar 12,000 to invest and three different funds to choose from. Guaranteed investment funds offer an expected rate of return of 7 %, mixed funds (part is guaranteed capital) have an expected rate of return of 8 %, while an investment on the Stock Exchange involves an expected rate of return of 12 %, but without guaranteed investment capital. In order to minimise the risk, the investor has decided to not invest more than $2,000 on the Stock Exchange. Moreover for tax reasons, the investor needs to invest at least three times more in guaranteed investment funds than in mixed funds. Let us assume that at the end of the year the returns are those expected; what are the optimum investment amounts\\*\n",
        "\n",
        "![image.png](data:image/png;base64,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)"
      ],
      "metadata": {
        "id": "JTEwuneavjp6"
      }
    },
    {
      "cell_type": "code",
      "source": [
        "model = pyo.ConcreteModel()\n",
        "\n",
        "#sets\n",
        "\n",
        "model.i = pyo.RangeSet(1,2)\n",
        "\n",
        "# parameters  returns from the investment\n",
        "\n",
        "model.r = pyo.Param(model.i, initialize = {1:-0.05, 2:-0.04})\n",
        "r = model.r\n",
        "\n",
        "model.p = pyo.Param(model.i,initialize =  {1:1,2:-3})\n",
        "p = model.p\n",
        "\n",
        "# Variables\n",
        "model.x = pyo.Var(model.i, within=pyo.NonNegativeReals)\n",
        "x = model.x\n",
        "\n",
        "# objective function\n",
        "def Objective_rule(model):\n",
        "\n",
        "  return sum(r[i]*x[i] for i in model.i)+1440\n",
        "\n",
        "model.Objf = pyo.Objective(rule=Objective_rule,sense=pyo.maximize)\n",
        "\n",
        "#constraints\n",
        "#x+y>=12000\n",
        "def Constraint1(model,i):\n",
        "  return sum(x[i] for i in model.i)>=12000\n",
        "\n",
        "model.Const1 = pyo.Constraint(model.i,rule = Constraint1)\n",
        "\n",
        "#x+y<=10000\n",
        "def Constraint2(model,i):\n",
        "  return sum(x[i] for i in model.i)<=10000\n",
        "\n",
        "model.Const2 = pyo.Constraint(model.i,rule = Constraint2)\n",
        "\n",
        "#x-3y>=0\n",
        "def Constraint3(model,i):\n",
        "  return sum(p[i]*x[i] for i in model.i)>=0\n",
        "\n",
        "model.Const3 = pyo.Constraint(model.i,rule = Constraint3)\n",
        "\n",
        "Solver = SolverFactory(\"glpk\")\n",
        "results = Solver.solve(model)\n",
        "\n",
        "print(results)\n",
        "print(\"obj func = \",model.Objf)\n",
        "\n",
        "for i in model.i:\n",
        "  print(\" investment in \",i, \"=\",x[i]())\n",
        "\n"
      ],
      "metadata": {
        "id": "U2dfTwglZPbi",
        "colab": {
          "base_uri": "https://localhost:8080/"
        },
        "outputId": "ec010567-cac2-48d6-c100-1ef84ab0e7b8"
      },
      "execution_count": null,
      "outputs": [
        {
          "output_type": "stream",
          "name": "stdout",
          "text": [
            "\n",
            "Problem: \n",
            "- Name: unknown\n",
            "  Lower bound: -inf\n",
            "  Upper bound: inf\n",
            "  Number of objectives: 1\n",
            "  Number of constraints: 6\n",
            "  Number of variables: 3\n",
            "  Number of nonzeros: 12\n",
            "  Sense: maximize\n",
            "Solver: \n",
            "- Status: ok\n",
            "  Termination condition: other\n",
            "  Statistics: \n",
            "    Branch and bound: \n",
            "      Number of bounded subproblems: 0\n",
            "      Number of created subproblems: 0\n",
            "  Error rc: 0\n",
            "  Time: 0.0056629180908203125\n",
            "\n",
            "obj func =  Objf\n",
            " investment in  1 = None\n",
            " investment in  2 = None\n"
          ]
        }
      ]
    },
    {
      "cell_type": "code",
      "source": [],
      "metadata": {
        "id": "yd4R-Cx8COGZ"
      },
      "execution_count": null,
      "outputs": []
    }
  ]
}